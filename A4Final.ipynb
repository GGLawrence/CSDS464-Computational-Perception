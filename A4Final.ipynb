{
 "cells": [
  {
   "cell_type": "code",
   "execution_count": null,
   "id": "4f9dd8c8",
   "metadata": {},
   "outputs": [],
   "source": [
    "import matplotlib.pyplot as plt\n",
    "from scipy.io import wavfile\n",
    "import numpy as np\n",
    "import math\n",
    "import scipy\n",
    "import IPython\n",
    "\n",
    "def read_wav(filepath):\n",
    "    sr, data = wavfile.read(filepath)\n",
    "    return sr, data\n",
    "\n",
    "def harmonic(t, f:int=1, alist:list=[1], phase_list:list=[0]):\n",
    "    value = 0\n",
    "    for index in range(len(alist)):\n",
    "        value += alist[index]*math.cos(f*(index+1)*t+phase_list[index])\n",
    "    return value\n",
    "\n",
    "def cosine(t, f:list=[1], alist:list=[1], phase_list:list=[0]):\n",
    "    value = 0\n",
    "    for index in range(len(alist)):\n",
    "        value += alist[index]*math.cos(f[index]*t+phase_list[index])\n",
    "    return value\n",
    "\n",
    "def show_harmonics(t, g, f, n=None, alist:list=[1], phase_list:list=[0], title:str=\"--\"):\n",
    "    y = np.array([g(t=i, f=f, alist=alist,  phase_list=phase_list) for i in t])\n",
    "    if n is not None and len(y) == len(n):\n",
    "        y += n\n",
    "    plt.figure()\n",
    "    if isinstance(f, int) or isinstance(f, float):\n",
    "        plt.stem([f*(i+1) for i in range(len(alist))],alist, use_line_collection=True)\n",
    "    else:\n",
    "        plt.stem(f, alist, use_line_collection=True)\n",
    "    plt.xlabel('Frequency (Hz)')\n",
    "    plt.ylabel('Amplitude')\n",
    "    plt.grid()\n",
    "    plt.figure()\n",
    "    plt.grid()\n",
    "    plt.plot(t, y)\n",
    "    plt.title(title)\n",
    "    plt.xlabel(\"Time\")\n",
    "    plt.ylabel(\"Amplitude\")\n",
    "    plt.show()\n",
    "\n",
    "def autocorr(x, normalize:bool=True):\n",
    "    pxx = np.zeros(len(x)*2-1)\n",
    "    norm_sqr = np.linalg.norm(x)**2\n",
    "    for n in range(-len(x)+1, len(x)):\n",
    "        for k in range(len(x)):\n",
    "            if len(x) > k-n >= 0:\n",
    "                pxx[n+len(x)-1] += x[k-n]*x[k]\n",
    "        if normalize:\n",
    "            pxx[n+len(x)-1] /= norm_sqr\n",
    "    return pxx"
   ]
  }
 ],
 "metadata": {
  "kernelspec": {
   "display_name": "Python 3 (ipykernel)",
   "language": "python",
   "name": "python3"
  },
  "language_info": {
   "codemirror_mode": {
    "name": "ipython",
    "version": 3
   },
   "file_extension": ".py",
   "mimetype": "text/x-python",
   "name": "python",
   "nbconvert_exporter": "python",
   "pygments_lexer": "ipython3",
   "version": "3.9.13"
  }
 },
 "nbformat": 4,
 "nbformat_minor": 5
}
